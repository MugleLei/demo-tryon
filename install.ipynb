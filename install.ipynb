{
 "cells": [
  {
   "cell_type": "markdown",
   "metadata": {},
   "source": [
    "## 配置演示项目"
   ]
  },
  {
   "cell_type": "code",
   "execution_count": null,
   "metadata": {},
   "outputs": [],
   "source": [
    "dp_dir=\"ACGPN/Data_preprocessing\"\n",
    "!mkdir {dp_dir}\n",
    "!mkdir {dp_dir}/test_color\n",
    "!mkdir {dp_dir}/test_edge\n",
    "!mkdir {dp_dir}/test_img\n",
    "!mkdir {dp_dir}/test_label\n",
    "!mkdir {dp_dir}/test_pose\n",
    "\n",
    "import gdown\n",
    "# 下载pose模型\n",
    "url = 'https://drive.google.com/uc?id=1hOHMFHEjhoJuLEQY0Ndurn5hfiA9mwko'\n",
    "output = 'ACGPN/pose/pose_iter_440000.caffemodel'\n",
    "gdown.download(url, output, quiet=False)\n",
    "\n",
    "# 下载acgn模型\n",
    "acgpn_dir=\"ACGPN/checkpoints\"\n",
    "!mkdir {acgpn_dir}\n",
    "url = 'https://drive.google.com/uc?id=1UWT6esQIU_d4tUm8cjxDKMhB8joQbrFx'\n",
    "output = f'{acgpn_dir}/ACGPN_checkpoints.zip'\n",
    "gdown.download(url, output, quiet=False)\n",
    "!unzip {acgpn_dir}/ACGPN_checkpoints.zip -d {acgpn_dir}\n",
    "\n",
    "# 下载schp模型\n",
    "url = 'https://drive.google.com/uc?id=1k4dllHpu0bdx38J7H28rVVLpU-kOHmnH'\n",
    "output = 'schp/lip_final.pth'\n",
    "gdown.download(url, output, quiet=False)"
   ]
  }
 ],
 "metadata": {
  "kernelspec": {
   "display_name": "Python 3",
   "language": "python",
   "name": "python3"
  },
  "language_info": {
   "codemirror_mode": {
    "name": "ipython",
    "version": 3
   },
   "file_extension": ".py",
   "mimetype": "text/x-python",
   "name": "python",
   "nbconvert_exporter": "python",
   "pygments_lexer": "ipython3",
   "version": "3.8.5"
  }
 },
 "nbformat": 4,
 "nbformat_minor": 4
}
